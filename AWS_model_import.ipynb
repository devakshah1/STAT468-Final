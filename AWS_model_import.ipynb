{
 "cells": [
  {
   "cell_type": "code",
   "execution_count": 1,
   "id": "5d3609e0",
   "metadata": {},
   "outputs": [],
   "source": [
    "#Interact with the model using the Vetiver API\n",
    "\n",
    "from pins import board_s3\n",
    "board = board_s3(\"devakshah-stat468-models\", allow_pickle_read=True)"
   ]
  },
  {
   "cell_type": "code",
   "execution_count": 14,
   "id": "76ed01bc",
   "metadata": {},
   "outputs": [],
   "source": [
    "import vetiver\n",
    "from vetiver import VetiverModel\n",
    "\n",
    "v = VetiverModel.from_pin(board, \"my_logit_model\")\n",
    "model = v.model"
   ]
  },
  {
   "cell_type": "code",
   "execution_count": 16,
   "id": "f8c82c1b",
   "metadata": {},
   "outputs": [
    {
     "data": {
      "text/html": [
       "<table class=\"simpletable\">\n",
       "<caption>Logit Regression Results</caption>\n",
       "<tr>\n",
       "  <th>Dep. Variable:</th>     <td>Pr[GP > 200]</td>   <th>  No. Observations:  </th>  <td>   167</td>  \n",
       "</tr>\n",
       "<tr>\n",
       "  <th>Model:</th>                 <td>Logit</td>      <th>  Df Residuals:      </th>  <td>   158</td>  \n",
       "</tr>\n",
       "<tr>\n",
       "  <th>Method:</th>                 <td>MLE</td>       <th>  Df Model:          </th>  <td>     8</td>  \n",
       "</tr>\n",
       "<tr>\n",
       "  <th>Date:</th>            <td>Mon, 04 Aug 2025</td> <th>  Pseudo R-squ.:     </th>  <td>0.2244</td>  \n",
       "</tr>\n",
       "<tr>\n",
       "  <th>Time:</th>                <td>03:02:16</td>     <th>  Log-Likelihood:    </th> <td> -81.521</td> \n",
       "</tr>\n",
       "<tr>\n",
       "  <th>converged:</th>             <td>False</td>      <th>  LL-Null:           </th> <td> -105.11</td> \n",
       "</tr>\n",
       "<tr>\n",
       "  <th>Covariance Type:</th>     <td>nonrobust</td>    <th>  LLR p-value:       </th> <td>1.424e-07</td>\n",
       "</tr>\n",
       "</table>\n",
       "<table class=\"simpletable\">\n",
       "<tr>\n",
       "      <td></td>         <th>coef</th>     <th>std err</th>      <th>z</th>      <th>P>|z|</th>  <th>[0.025</th>    <th>0.975]</th>  \n",
       "</tr>\n",
       "<tr>\n",
       "  <th>const</th>     <td>   -0.7392</td> <td>   10.224</td> <td>   -0.072</td> <td> 0.942</td> <td>  -20.778</td> <td>   19.299</td>\n",
       "</tr>\n",
       "<tr>\n",
       "  <th>g</th>         <td>   -0.0991</td> <td>      nan</td> <td>      nan</td> <td>   nan</td> <td>      nan</td> <td>      nan</td>\n",
       "</tr>\n",
       "<tr>\n",
       "  <th>a</th>         <td>    0.0749</td> <td>      nan</td> <td>      nan</td> <td>   nan</td> <td>      nan</td> <td>      nan</td>\n",
       "</tr>\n",
       "<tr>\n",
       "  <th>tp</th>        <td>   -0.0238</td> <td>      nan</td> <td>      nan</td> <td>   nan</td> <td>      nan</td> <td>      nan</td>\n",
       "</tr>\n",
       "<tr>\n",
       "  <th>height_cm</th> <td>    0.0524</td> <td>    0.047</td> <td>    1.109</td> <td> 0.267</td> <td>   -0.040</td> <td>    0.145</td>\n",
       "</tr>\n",
       "<tr>\n",
       "  <th>weight_kg</th> <td>    0.0318</td> <td>    0.040</td> <td>    0.801</td> <td> 0.423</td> <td>   -0.046</td> <td>    0.110</td>\n",
       "</tr>\n",
       "<tr>\n",
       "  <th>age_days</th>  <td>   -0.0023</td> <td>    0.001</td> <td>   -2.140</td> <td> 0.032</td> <td>   -0.004</td> <td>   -0.000</td>\n",
       "</tr>\n",
       "<tr>\n",
       "  <th>gpg</th>       <td>    7.3258</td> <td>   22.332</td> <td>    0.328</td> <td> 0.743</td> <td>  -36.444</td> <td>   51.095</td>\n",
       "</tr>\n",
       "<tr>\n",
       "  <th>ppg</th>       <td>    1.4341</td> <td>    9.650</td> <td>    0.149</td> <td> 0.882</td> <td>  -17.480</td> <td>   20.349</td>\n",
       "</tr>\n",
       "</table>"
      ],
      "text/latex": [
       "\\begin{center}\n",
       "\\begin{tabular}{lclc}\n",
       "\\toprule\n",
       "\\textbf{Dep. Variable:}   &  Pr[GP $>$ 200]  & \\textbf{  No. Observations:  } &      167    \\\\\n",
       "\\textbf{Model:}           &      Logit       & \\textbf{  Df Residuals:      } &      158    \\\\\n",
       "\\textbf{Method:}          &       MLE        & \\textbf{  Df Model:          } &        8    \\\\\n",
       "\\textbf{Date:}            & Mon, 04 Aug 2025 & \\textbf{  Pseudo R-squ.:     } &   0.2244    \\\\\n",
       "\\textbf{Time:}            &     03:02:16     & \\textbf{  Log-Likelihood:    } &   -81.521   \\\\\n",
       "\\textbf{converged:}       &      False       & \\textbf{  LL-Null:           } &   -105.11   \\\\\n",
       "\\textbf{Covariance Type:} &    nonrobust     & \\textbf{  LLR p-value:       } & 1.424e-07   \\\\\n",
       "\\bottomrule\n",
       "\\end{tabular}\n",
       "\\begin{tabular}{lcccccc}\n",
       "                    & \\textbf{coef} & \\textbf{std err} & \\textbf{z} & \\textbf{P$> |$z$|$} & \\textbf{[0.025} & \\textbf{0.975]}  \\\\\n",
       "\\midrule\n",
       "\\textbf{const}      &      -0.7392  &       10.224     &    -0.072  &         0.942        &      -20.778    &       19.299     \\\\\n",
       "\\textbf{g}          &      -0.0991  &          nan     &       nan  &           nan        &          nan    &          nan     \\\\\n",
       "\\textbf{a}          &       0.0749  &          nan     &       nan  &           nan        &          nan    &          nan     \\\\\n",
       "\\textbf{tp}         &      -0.0238  &          nan     &       nan  &           nan        &          nan    &          nan     \\\\\n",
       "\\textbf{height\\_cm} &       0.0524  &        0.047     &     1.109  &         0.267        &       -0.040    &        0.145     \\\\\n",
       "\\textbf{weight\\_kg} &       0.0318  &        0.040     &     0.801  &         0.423        &       -0.046    &        0.110     \\\\\n",
       "\\textbf{age\\_days}  &      -0.0023  &        0.001     &    -2.140  &         0.032        &       -0.004    &       -0.000     \\\\\n",
       "\\textbf{gpg}        &       7.3258  &       22.332     &     0.328  &         0.743        &      -36.444    &       51.095     \\\\\n",
       "\\textbf{ppg}        &       1.4341  &        9.650     &     0.149  &         0.882        &      -17.480    &       20.349     \\\\\n",
       "\\bottomrule\n",
       "\\end{tabular}\n",
       "%\\caption{Logit Regression Results}\n",
       "\\end{center}"
      ],
      "text/plain": [
       "<class 'statsmodels.iolib.summary.Summary'>\n",
       "\"\"\"\n",
       "                           Logit Regression Results                           \n",
       "==============================================================================\n",
       "Dep. Variable:           Pr[GP > 200]   No. Observations:                  167\n",
       "Model:                          Logit   Df Residuals:                      158\n",
       "Method:                           MLE   Df Model:                            8\n",
       "Date:                Mon, 04 Aug 2025   Pseudo R-squ.:                  0.2244\n",
       "Time:                        03:02:16   Log-Likelihood:                -81.521\n",
       "converged:                      False   LL-Null:                       -105.11\n",
       "Covariance Type:            nonrobust   LLR p-value:                 1.424e-07\n",
       "==============================================================================\n",
       "                 coef    std err          z      P>|z|      [0.025      0.975]\n",
       "------------------------------------------------------------------------------\n",
       "const         -0.7392     10.224     -0.072      0.942     -20.778      19.299\n",
       "g             -0.0991        nan        nan        nan         nan         nan\n",
       "a              0.0749        nan        nan        nan         nan         nan\n",
       "tp            -0.0238        nan        nan        nan         nan         nan\n",
       "height_cm      0.0524      0.047      1.109      0.267      -0.040       0.145\n",
       "weight_kg      0.0318      0.040      0.801      0.423      -0.046       0.110\n",
       "age_days      -0.0023      0.001     -2.140      0.032      -0.004      -0.000\n",
       "gpg            7.3258     22.332      0.328      0.743     -36.444      51.095\n",
       "ppg            1.4341      9.650      0.149      0.882     -17.480      20.349\n",
       "==============================================================================\n",
       "\"\"\""
      ]
     },
     "execution_count": 16,
     "metadata": {},
     "output_type": "execute_result"
    }
   ],
   "source": [
    "model.summary()"
   ]
  }
 ],
 "metadata": {
  "kernelspec": {
   "display_name": "venv",
   "language": "python",
   "name": "python3"
  },
  "language_info": {
   "codemirror_mode": {
    "name": "ipython",
    "version": 3
   },
   "file_extension": ".py",
   "mimetype": "text/x-python",
   "name": "python",
   "nbconvert_exporter": "python",
   "pygments_lexer": "ipython3",
   "version": "3.13.3"
  }
 },
 "nbformat": 4,
 "nbformat_minor": 5
}
